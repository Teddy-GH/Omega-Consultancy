{
 "cells": [
  {
   "cell_type": "code",
   "execution_count": null,
   "id": "143e2725",
   "metadata": {},
   "outputs": [],
   "source": [
    "from scripts.preprocessing import load_clean_reviews\n",
    "from scripts.analysis.sentiment import add_sentiment\n",
    "\n",
    "df_clean = load_clean_reviews()\n",
    "df_with_sentiment = add_sentiment(df_clean)\n",
    "df_with_sentiment.to_csv('../data/analysis/reviews_with_sentiment.csv', index=False)\n",
    "print(\"✅ Sentiment analysis completed and saved.\")"
   ]
  },
  {
   "cell_type": "code",
   "execution_count": null,
   "id": "4829f267",
   "metadata": {},
   "outputs": [],
   "source": [
    "import seaborn as sns\n",
    "import matplotlib.pyplot as plt\n",
    "\n",
    "# Plot sentiment by rating\n",
    "agg = df_with_sentiment.groupby(['bank', 'rating'])['sentiment_score'].mean().unstack()\n",
    "agg.plot(kind='bar', figsize=(10, 5), title=\"Avg Sentiment Score by Bank and Rating\")\n",
    "plt.ylabel(\"Avg Sentiment Score\")\n",
    "plt.show()\n"
   ]
  },
  {
   "cell_type": "code",
   "execution_count": null,
   "id": "621c8419",
   "metadata": {},
   "outputs": [],
   "source": [
    "\n",
    "# Quick plot: Average sentiment score by bank and rating\n",
    "sns.set(style=\"whitegrid\")\n",
    "plt.figure(figsize=(10, 5))\n",
    "agg = df_with_sentiment.groupby(['bank', 'rating'])['sentiment_score'].mean().unstack()\n",
    "agg.plot(kind='bar', title=\"Average Sentiment Score by Bank and Rating\")\n",
    "plt.ylabel(\"Avg Sentiment Score\")\n",
    "plt.tight_layout()\n",
    "plt.show()\n"
   ]
  }
 ],
 "metadata": {
  "language_info": {
   "name": "python"
  }
 },
 "nbformat": 4,
 "nbformat_minor": 5
}
