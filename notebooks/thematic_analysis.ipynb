{
 "cells": [
  {
   "cell_type": "code",
   "execution_count": null,
   "id": "f9a860a2",
   "metadata": {},
   "outputs": [],
   "source": [
    "import pandas as pd\n",
    "import seaborn as sns\n",
    "import matplotlib.pyplot as plt\n",
    "import sys\n",
    "from pathlib import Path\n",
    "\n",
    "# Add script path\n",
    "sys.path.append(str(Path().resolve().parent))\n",
    "\n",
    "from scripts.analysis.text_cleaning import extract_keywords, assign_themes\n",
    "\n",
    "sns.set(style=\"whitegrid\")"
   ]
  },
  {
   "cell_type": "code",
   "execution_count": null,
   "id": "4f36e739",
   "metadata": {},
   "outputs": [],
   "source": [
    "# Load cleaned reviews\n",
    "df = pd.read_csv(\"../data/clean/reviews_clean.csv\")\n",
    "df.head()"
   ]
  },
  {
   "cell_type": "code",
   "execution_count": null,
   "id": "a3e6a180",
   "metadata": {},
   "outputs": [],
   "source": [
    "# Extract keywords\n",
    "keyword_df = extract_keywords(df, max_features=20)\n",
    "keyword_df.head(10)"
   ]
  },
  {
   "cell_type": "code",
   "execution_count": null,
   "id": "9b8f5fa7",
   "metadata": {},
   "outputs": [],
   "source": [
    "# Assign themes\n",
    "df_with_themes = assign_themes(df)\n",
    "df_with_themes.head()"
   ]
  },
  {
   "cell_type": "code",
   "execution_count": null,
   "id": "ba070dad",
   "metadata": {},
   "outputs": [],
   "source": [
    "# Save results with themes\n",
    "output_path = Path(\"../data/themes\")\n",
    "output_path.mkdir(parents=True, exist_ok=True)\n",
    "df_with_themes.to_csv(output_path / \"reviews_with_themes.csv\", index=False)\n",
    "print(\"✅ Saved: data/themes/reviews_with_themes.csv\")"
   ]
  },
  {
   "cell_type": "code",
   "execution_count": null,
   "id": "bfd2acff",
   "metadata": {},
   "outputs": [],
   "source": [
    "# Plot top themes per bank\n",
    "top_themes = df_with_themes.groupby([\"bank\", \"theme\"]).size().reset_index(name=\"count\")\n",
    "plt.figure(figsize=(12, 6))\n",
    "sns.barplot(data=top_themes, x=\"theme\", y=\"count\", hue=\"bank\")\n",
    "plt.title(\"Top Themes per Bank\")\n",
    "plt.xticks(rotation=45)\n",
    "plt.tight_layout()\n",
    "plt.show()"
   ]
  }
 ],
 "metadata": {
  "language_info": {
   "name": "python"
  }
 },
 "nbformat": 4,
 "nbformat_minor": 5
}
