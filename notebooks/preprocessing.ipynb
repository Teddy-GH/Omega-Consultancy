{
 "cells": [
  {
   "cell_type": "code",
   "execution_count": null,
   "id": "da2e6b5c",
   "metadata": {},
   "outputs": [],
   "source": [
    "\n",
    "import pandas as pd\n",
    "import matplotlib.pyplot as plt\n",
    "import seaborn as sns\n",
    "from pathlib import Path\n",
    "import sys\n",
    "\n",
    "sys.path.append(str(Path().resolve().parent))\n",
    "\n",
    "from scripts.preprocessing import load_raw_reviews, preprocess_reviews, save_clean_reviews"
   ]
  },
  {
   "cell_type": "code",
   "execution_count": null,
   "id": "e38d585c",
   "metadata": {},
   "outputs": [],
   "source": []
  },
  {
   "cell_type": "code",
   "execution_count": null,
   "id": "39ca5181",
   "metadata": {},
   "outputs": [],
   "source": [
    "\n",
    "\n",
    "\n",
    "#Load raw reviews\n",
    "df_raw = load_raw_reviews()\n",
    "\n",
    "# Preprocess\n",
    "df_clean = preprocess_reviews(df_raw)\n",
    "\n",
    "# Save cleaned data\n",
    "save_clean_reviews(df_clean)\n",
    "\n",
    "# Preview cleaned data\n",
    "df_clean.head()\n"
   ]
  },
  {
   "cell_type": "code",
   "execution_count": null,
   "id": "fb21514f",
   "metadata": {},
   "outputs": [],
   "source": [
    "# Set visualization style\n",
    "sns.set(style='whitegrid')\n",
    "\n",
    "# Distribution of ratings\n",
    "plt.figure(figsize=(8, 4))\n",
    "sns.countplot(data=df_clean, x='rating', palette='viridis')\n",
    "plt.title('Distribution of Ratings')\n",
    "plt.xlabel('Rating')\n",
    "plt.ylabel('Number of Reviews')\n",
    "plt.show()\n",
    "\n",
    "# Reviews per bank\n",
    "plt.figure(figsize=(8, 4))\n",
    "sns.countplot(data=df_clean, x='bank', palette='Set2')\n",
    "plt.title('Number of Reviews per Bank')\n",
    "plt.xlabel('Bank')\n",
    "plt.ylabel('Number of Reviews')\n",
    "plt.show()\n"
   ]
  },
  {
   "cell_type": "code",
   "execution_count": null,
   "id": "78a4dd78",
   "metadata": {},
   "outputs": [],
   "source": [
    "# Check total and missing percentages\n",
    "total = len(df_clean)\n",
    "missing_percentage = df_clean.isnull().mean().max() * 100\n",
    "\n",
    "print(f\"✅ Total cleaned reviews: {total}\")\n",
    "print(f\"🔍 Missing data <5%: {'✅' if missing_percentage < 5 else '❌'} ({missing_percentage:.2f}%)\")\n"
   ]
  }
 ],
 "metadata": {
  "kernelspec": {
   "display_name": "venv",
   "language": "python",
   "name": "python3"
  },
  "language_info": {
   "codemirror_mode": {
    "name": "ipython",
    "version": 3
   },
   "file_extension": ".py",
   "mimetype": "text/x-python",
   "name": "python",
   "nbconvert_exporter": "python",
   "pygments_lexer": "ipython3",
   "version": "3.13.3"
  }
 },
 "nbformat": 4,
 "nbformat_minor": 5
}
