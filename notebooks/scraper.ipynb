{
 "cells": [
  {
   "cell_type": "markdown",
   "id": "adeb11ce",
   "metadata": {},
   "source": [
    " Import libraries and set path"
   ]
  },
  {
   "cell_type": "code",
   "execution_count": null,
   "id": "ae4025d7",
   "metadata": {},
   "outputs": [],
   "source": [
    "import pandas as pd\n",
    "import matplotlib.pyplot as plt\n",
    "import seaborn as sns\n",
    "import schedule\n",
    "import time\n",
    "import os\n",
    "from pathlib import Path\n",
    "import sys\n",
    "sys.path.append(str(Path().resolve().parent))\n",
    "\n",
    "from scripts.scraper import create_data_dir, fetch_reviews, save_reviews_to_csv\n",
    "from scripts.play_store_scraper import scrape_play_store_reviews\n",
    "\n",
    "\n",
    "sns.set(style=\"whitegrid\")\n"
   ]
  },
  {
   "cell_type": "markdown",
   "id": "5e6b20b7",
   "metadata": {},
   "source": [
    "Fetch and save reviews"
   ]
  },
  {
   "cell_type": "code",
   "execution_count": null,
   "id": "a703a170-1946-4bd6-b082-f9f7e415e6d5",
   "metadata": {},
   "outputs": [],
   "source": [
    "\n",
    "# Different scheduling options (uncomment the one you want to use):\n",
    "schedule.every().day.at(\"01:00\").do(scrape_play_store_reviews)  # Daily at 1 AM\n",
    "# schedule.every(6).hours.do(scrape_play_store_reviews)           # Every 6 hours\n",
    "# schedule.every().monday.do(scrape_play_store_reviews)           # Every Monday\n",
    "# schedule.every().hour.do(scrape_play_store_reviews)             # Every hour\n",
    "\n",
    "while True:\n",
    "    schedule.run_pending()\n",
    "    time.sleep(1)"
   ]
  },
  {
   "cell_type": "code",
   "execution_count": null,
   "id": "f986ca6c-a348-47b6-bde1-ef0d4bd0d9b7",
   "metadata": {},
   "outputs": [],
   "source": []
  }
 ],
 "metadata": {
  "kernelspec": {
   "display_name": "venv",
   "language": "python",
   "name": "python3"
  },
  "language_info": {
   "codemirror_mode": {
    "name": "ipython",
    "version": 3
   },
   "file_extension": ".py",
   "mimetype": "text/x-python",
   "name": "python",
   "nbconvert_exporter": "python",
   "pygments_lexer": "ipython3",
   "version": "3.13.3"
  }
 },
 "nbformat": 4,
 "nbformat_minor": 5
}
