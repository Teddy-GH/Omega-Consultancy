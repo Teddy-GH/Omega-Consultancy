{
 "cells": [
  {
   "cell_type": "markdown",
   "id": "adeb11ce",
   "metadata": {},
   "source": [
    " Import libraries and set path"
   ]
  },
  {
   "cell_type": "code",
   "execution_count": null,
   "id": "ae4025d7",
   "metadata": {},
   "outputs": [],
   "source": [
    "import pandas as pd\n",
    "import matplotlib.pyplot as plt\n",
    "import seaborn as sns\n",
    "import schedule\n",
    "import time\n",
    "import os\n",
    "from pathlib import Path\n",
    "import sys\n",
    "sys.path.append(str(Path().resolve().parent))\n",
    "\n",
    "from scripts.scraper import scrape_reviews, save_raw_data\n",
    "from scripts.play_store_scraper import scrape_play_store_reviews\n",
    "\n",
    "\n",
    "# Visualization style\n",
    "sns.set(style=\"whitegrid\")\n"
   ]
  },
  {
   "cell_type": "code",
   "execution_count": null,
   "id": "b30874a1",
   "metadata": {},
   "outputs": [],
   "source": [
    "#  Define App Information\n",
    "app_ids = [\n",
    "    'com.ethiopian.cbe.mobile',\n",
    "    'com.boa.boamobile',\n",
    "    'com.teklogix.amole',\n",
    "]\n",
    "app_names = ['CBE', 'BOA', 'Dashen']"
   ]
  },
  {
   "cell_type": "code",
   "execution_count": null,
   "id": "049ad17f",
   "metadata": {},
   "outputs": [],
   "source": [
    "# Scrape Reviews\n",
    "print(\"📥 Scraping reviews from Google Play Store...\")\n",
    "df_raw = scrape_reviews(app_ids, app_names, review_count=400)\n",
    "print(f\"✅ Scraped {df_raw.shape[0]} total reviews\")"
   ]
  },
  {
   "cell_type": "code",
   "execution_count": null,
   "id": "9823798a",
   "metadata": {},
   "outputs": [],
   "source": [
    "# 4. Save Raw Data\n",
    "save_raw_data(df_raw)\n",
    "\n",
    "# 5. Preview Raw Data\n",
    "df_raw.head()"
   ]
  },
  {
   "cell_type": "markdown",
   "id": "5e6b20b7",
   "metadata": {},
   "source": [
    "Fetch and save reviews"
   ]
  },
  {
   "cell_type": "code",
   "execution_count": null,
   "id": "a703a170-1946-4bd6-b082-f9f7e415e6d5",
   "metadata": {},
   "outputs": [],
   "source": [
    "\n",
    "# Different scheduling options (uncomment the one you want to use):\n",
    "schedule.every().day.at(\"01:00\").do(scrape_play_store_reviews)  # Daily at 1 AM\n",
    "\n",
    "while True:\n",
    "    schedule.run_pending()\n",
    "    time.sleep(1)"
   ]
  },
  {
   "cell_type": "markdown",
   "id": "509de715",
   "metadata": {},
   "source": [
    "Add Preprocessing "
   ]
  },
  {
   "cell_type": "code",
   "execution_count": null,
   "id": "f986ca6c-a348-47b6-bde1-ef0d4bd0d9b7",
   "metadata": {},
   "outputs": [],
   "source": [
    "from scripts.preprocessing import load_raw_reviews, preprocess_reviews, save_clean_reviews\n",
    "\n",
    "# Load raw\n",
    "df_raw = load_raw_reviews()\n",
    "\n",
    "# Preprocess\n",
    "df_clean = preprocess_reviews(df_raw)\n",
    "\n",
    "# Save cleaned version\n",
    "save_clean_reviews(df_clean)\n",
    "\n",
    "# Quick preview\n",
    "df_clean.head()\n"
   ]
  },
  {
   "cell_type": "code",
   "execution_count": null,
   "id": "66aa5495",
   "metadata": {},
   "outputs": [],
   "source": [
    "total = len(df_clean)\n",
    "missing_pct = df_clean.isnull().sum() / total * 100\n",
    "print(f\"Total reviews: {total}\")\n",
    "print(\"Missing data percentage per column:\\n\", missing_pct)\n"
   ]
  }
 ],
 "metadata": {
  "kernelspec": {
   "display_name": "venv",
   "language": "python",
   "name": "python3"
  },
  "language_info": {
   "codemirror_mode": {
    "name": "ipython",
    "version": 3
   },
   "file_extension": ".py",
   "mimetype": "text/x-python",
   "name": "python",
   "nbconvert_exporter": "python",
   "pygments_lexer": "ipython3",
   "version": "3.13.3"
  }
 },
 "nbformat": 4,
 "nbformat_minor": 5
}
